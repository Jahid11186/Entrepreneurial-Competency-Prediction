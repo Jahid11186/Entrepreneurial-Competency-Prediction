{
  "nbformat": 4,
  "nbformat_minor": 0,
  "metadata": {
    "colab": {
      "name": "Entrepreneurial Competency Prediction.ipynb",
      "provenance": [],
      "collapsed_sections": [
        "4LRywwvGOhgL",
        "icU47y5AnkH7"
      ],
      "include_colab_link": true
    },
    "kernelspec": {
      "name": "python3",
      "display_name": "Python 3"
    },
    "language_info": {
      "name": "python"
    }
  },
  "cells": [
    {
      "cell_type": "markdown",
      "metadata": {
        "id": "view-in-github",
        "colab_type": "text"
      },
      "source": [
        "<a href=\"https://colab.research.google.com/github/Jahid11186/Entrepreneurial-Competency-Prediction/blob/main/Entrepreneurial_Competency_Prediction.ipynb\" target=\"_parent\"><img src=\"https://colab.research.google.com/assets/colab-badge.svg\" alt=\"Open In Colab\"/></a>"
      ]
    },
    {
      "cell_type": "markdown",
      "metadata": {
        "id": "Vgcwh-H_aEnD"
      },
      "source": [
        "### **Entrepreneurial Competency in University Students**"
      ]
    },
    {
      "cell_type": "code",
      "metadata": {
        "colab": {
          "base_uri": "https://localhost:8080/"
        },
        "id": "qfXL9x-0aiCg",
        "outputId": "dcdd6ac9-f983-4203-9bfe-5e9857bec868"
      },
      "source": [
        "from google.colab import drive\n",
        "drive.mount('/content/drive')"
      ],
      "execution_count": null,
      "outputs": [
        {
          "output_type": "stream",
          "text": [
            "Mounted at /content/drive\n"
          ],
          "name": "stdout"
        }
      ]
    },
    {
      "cell_type": "markdown",
      "metadata": {
        "id": "4LRywwvGOhgL"
      },
      "source": [
        "### **Project Setup**"
      ]
    },
    {
      "cell_type": "code",
      "metadata": {
        "id": "RM5CmWtob-3h"
      },
      "source": [
        "# Required libraries/modules\n",
        "import pandas as pd\n",
        "import numpy as np\n",
        "import matplotlib.pyplot as plt\n",
        "import seaborn as sns"
      ],
      "execution_count": null,
      "outputs": []
    },
    {
      "cell_type": "code",
      "metadata": {
        "id": "xYIKgq-2cOdD"
      },
      "source": [
        "df = pd.read_csv('/content/drive/MyDrive/Datasets/entrepreneurDataset/data.csv')"
      ],
      "execution_count": null,
      "outputs": []
    },
    {
      "cell_type": "markdown",
      "metadata": {
        "id": "icU47y5AnkH7"
      },
      "source": [
        "### **Data Exploration**"
      ]
    },
    {
      "cell_type": "code",
      "metadata": {
        "colab": {
          "base_uri": "https://localhost:8080/",
          "height": 360
        },
        "id": "DevqleHl3VvB",
        "outputId": "36a3fec8-a277-492d-fd1a-7d00d4d628c3"
      },
      "source": [
        "df.head()"
      ],
      "execution_count": null,
      "outputs": [
        {
          "output_type": "execute_result",
          "data": {
            "text/html": [
              "<div>\n",
              "<style scoped>\n",
              "    .dataframe tbody tr th:only-of-type {\n",
              "        vertical-align: middle;\n",
              "    }\n",
              "\n",
              "    .dataframe tbody tr th {\n",
              "        vertical-align: top;\n",
              "    }\n",
              "\n",
              "    .dataframe thead th {\n",
              "        text-align: right;\n",
              "    }\n",
              "</style>\n",
              "<table border=\"1\" class=\"dataframe\">\n",
              "  <thead>\n",
              "    <tr style=\"text-align: right;\">\n",
              "      <th></th>\n",
              "      <th>EducationSector</th>\n",
              "      <th>IndividualProject</th>\n",
              "      <th>Age</th>\n",
              "      <th>Gender</th>\n",
              "      <th>City</th>\n",
              "      <th>Influenced</th>\n",
              "      <th>Perseverance</th>\n",
              "      <th>DesireToTakeInitiative</th>\n",
              "      <th>Competitiveness</th>\n",
              "      <th>SelfReliance</th>\n",
              "      <th>StrongNeedToAchieve</th>\n",
              "      <th>SelfConfidence</th>\n",
              "      <th>GoodPhysicalHealth</th>\n",
              "      <th>MentalDisorder</th>\n",
              "      <th>KeyTraits</th>\n",
              "      <th>ReasonsForLack</th>\n",
              "      <th>y</th>\n",
              "    </tr>\n",
              "  </thead>\n",
              "  <tbody>\n",
              "    <tr>\n",
              "      <th>0</th>\n",
              "      <td>Engineering Sciences</td>\n",
              "      <td>No</td>\n",
              "      <td>19</td>\n",
              "      <td>Male</td>\n",
              "      <td>Yes</td>\n",
              "      <td>No</td>\n",
              "      <td>2</td>\n",
              "      <td>2</td>\n",
              "      <td>3</td>\n",
              "      <td>3</td>\n",
              "      <td>2</td>\n",
              "      <td>2</td>\n",
              "      <td>3</td>\n",
              "      <td>Yes</td>\n",
              "      <td>Passion</td>\n",
              "      <td>NaN</td>\n",
              "      <td>1</td>\n",
              "    </tr>\n",
              "    <tr>\n",
              "      <th>1</th>\n",
              "      <td>Engineering Sciences</td>\n",
              "      <td>Yes</td>\n",
              "      <td>22</td>\n",
              "      <td>Male</td>\n",
              "      <td>No</td>\n",
              "      <td>Yes</td>\n",
              "      <td>3</td>\n",
              "      <td>3</td>\n",
              "      <td>3</td>\n",
              "      <td>4</td>\n",
              "      <td>4</td>\n",
              "      <td>3</td>\n",
              "      <td>4</td>\n",
              "      <td>Yes</td>\n",
              "      <td>Vision</td>\n",
              "      <td>Just not interested! (Want to work in the corp...</td>\n",
              "      <td>0</td>\n",
              "    </tr>\n",
              "    <tr>\n",
              "      <th>2</th>\n",
              "      <td>Engineering Sciences</td>\n",
              "      <td>No</td>\n",
              "      <td>18</td>\n",
              "      <td>Male</td>\n",
              "      <td>Yes</td>\n",
              "      <td>No</td>\n",
              "      <td>3</td>\n",
              "      <td>4</td>\n",
              "      <td>3</td>\n",
              "      <td>3</td>\n",
              "      <td>3</td>\n",
              "      <td>4</td>\n",
              "      <td>4</td>\n",
              "      <td>No</td>\n",
              "      <td>Passion</td>\n",
              "      <td>Not willing to start a venture in India and wa...</td>\n",
              "      <td>0</td>\n",
              "    </tr>\n",
              "    <tr>\n",
              "      <th>3</th>\n",
              "      <td>Engineering Sciences</td>\n",
              "      <td>Yes</td>\n",
              "      <td>20</td>\n",
              "      <td>Male</td>\n",
              "      <td>Yes</td>\n",
              "      <td>Yes</td>\n",
              "      <td>3</td>\n",
              "      <td>3</td>\n",
              "      <td>3</td>\n",
              "      <td>3</td>\n",
              "      <td>4</td>\n",
              "      <td>3</td>\n",
              "      <td>3</td>\n",
              "      <td>No</td>\n",
              "      <td>Resilience</td>\n",
              "      <td>Not able to take a Financial Risk</td>\n",
              "      <td>0</td>\n",
              "    </tr>\n",
              "    <tr>\n",
              "      <th>4</th>\n",
              "      <td>Engineering Sciences</td>\n",
              "      <td>Yes</td>\n",
              "      <td>19</td>\n",
              "      <td>Male</td>\n",
              "      <td>Yes</td>\n",
              "      <td>Yes</td>\n",
              "      <td>2</td>\n",
              "      <td>3</td>\n",
              "      <td>3</td>\n",
              "      <td>3</td>\n",
              "      <td>4</td>\n",
              "      <td>3</td>\n",
              "      <td>2</td>\n",
              "      <td>Yes</td>\n",
              "      <td>Vision</td>\n",
              "      <td>NaN</td>\n",
              "      <td>1</td>\n",
              "    </tr>\n",
              "  </tbody>\n",
              "</table>\n",
              "</div>"
            ],
            "text/plain": [
              "        EducationSector  ...  y\n",
              "0  Engineering Sciences  ...  1\n",
              "1  Engineering Sciences  ...  0\n",
              "2  Engineering Sciences  ...  0\n",
              "3  Engineering Sciences  ...  0\n",
              "4  Engineering Sciences  ...  1\n",
              "\n",
              "[5 rows x 17 columns]"
            ]
          },
          "metadata": {
            "tags": []
          },
          "execution_count": 5
        }
      ]
    },
    {
      "cell_type": "code",
      "metadata": {
        "colab": {
          "base_uri": "https://localhost:8080/"
        },
        "id": "ZB4NZrktnwVp",
        "outputId": "615dc053-fa0b-4de8-8b29-747ab43a5f14"
      },
      "source": [
        "df.info()"
      ],
      "execution_count": null,
      "outputs": [
        {
          "output_type": "stream",
          "text": [
            "<class 'pandas.core.frame.DataFrame'>\n",
            "RangeIndex: 219 entries, 0 to 218\n",
            "Data columns (total 17 columns):\n",
            " #   Column                  Non-Null Count  Dtype \n",
            "---  ------                  --------------  ----- \n",
            " 0   EducationSector         219 non-null    object\n",
            " 1   IndividualProject       219 non-null    object\n",
            " 2   Age                     219 non-null    int64 \n",
            " 3   Gender                  219 non-null    object\n",
            " 4   City                    219 non-null    object\n",
            " 5   Influenced              219 non-null    object\n",
            " 6   Perseverance            219 non-null    int64 \n",
            " 7   DesireToTakeInitiative  219 non-null    int64 \n",
            " 8   Competitiveness         219 non-null    int64 \n",
            " 9   SelfReliance            219 non-null    int64 \n",
            " 10  StrongNeedToAchieve     219 non-null    int64 \n",
            " 11  SelfConfidence          219 non-null    int64 \n",
            " 12  GoodPhysicalHealth      219 non-null    int64 \n",
            " 13  MentalDisorder          219 non-null    object\n",
            " 14  KeyTraits               219 non-null    object\n",
            " 15  ReasonsForLack          128 non-null    object\n",
            " 16  y                       219 non-null    int64 \n",
            "dtypes: int64(9), object(8)\n",
            "memory usage: 29.2+ KB\n"
          ],
          "name": "stdout"
        }
      ]
    },
    {
      "cell_type": "code",
      "metadata": {
        "colab": {
          "base_uri": "https://localhost:8080/"
        },
        "id": "drztzIpTn-Fo",
        "outputId": "f3e6b455-93ec-4f93-dc78-37fa50114f05"
      },
      "source": [
        "df.isnull().sum()"
      ],
      "execution_count": null,
      "outputs": [
        {
          "output_type": "execute_result",
          "data": {
            "text/plain": [
              "EducationSector            0\n",
              "IndividualProject          0\n",
              "Age                        0\n",
              "Gender                     0\n",
              "City                       0\n",
              "Influenced                 0\n",
              "Perseverance               0\n",
              "DesireToTakeInitiative     0\n",
              "Competitiveness            0\n",
              "SelfReliance               0\n",
              "StrongNeedToAchieve        0\n",
              "SelfConfidence             0\n",
              "GoodPhysicalHealth         0\n",
              "MentalDisorder             0\n",
              "KeyTraits                  0\n",
              "ReasonsForLack            91\n",
              "y                          0\n",
              "dtype: int64"
            ]
          },
          "metadata": {
            "tags": []
          },
          "execution_count": 7
        }
      ]
    },
    {
      "cell_type": "code",
      "metadata": {
        "colab": {
          "base_uri": "https://localhost:8080/"
        },
        "id": "edZObsaMXUs_",
        "outputId": "8f2d4f3f-5d0a-4cd0-f1cc-04189bb5a3dd"
      },
      "source": [
        "df.y.value_counts()"
      ],
      "execution_count": null,
      "outputs": [
        {
          "output_type": "execute_result",
          "data": {
            "text/plain": [
              "0    128\n",
              "1     91\n",
              "Name: y, dtype: int64"
            ]
          },
          "metadata": {
            "tags": []
          },
          "execution_count": 8
        }
      ]
    },
    {
      "cell_type": "code",
      "metadata": {
        "colab": {
          "base_uri": "https://localhost:8080/"
        },
        "id": "6qGUYvPhW8vz",
        "outputId": "603f0ee3-c68b-43e9-9e8a-2c248030925a"
      },
      "source": [
        "df.KeyTraits.unique()"
      ],
      "execution_count": null,
      "outputs": [
        {
          "output_type": "execute_result",
          "data": {
            "text/plain": [
              "array(['Passion', 'Vision', 'Resilience', 'Positivity', 'Work Ethic'],\n",
              "      dtype=object)"
            ]
          },
          "metadata": {
            "tags": []
          },
          "execution_count": 9
        }
      ]
    },
    {
      "cell_type": "code",
      "metadata": {
        "colab": {
          "base_uri": "https://localhost:8080/"
        },
        "id": "6XrqoD8l5h6v",
        "outputId": "b2c9dc6c-678a-410b-e777-27147783df51"
      },
      "source": [
        "df.EducationSector.unique()"
      ],
      "execution_count": null,
      "outputs": [
        {
          "output_type": "execute_result",
          "data": {
            "text/plain": [
              "array(['Engineering Sciences', 'Others',\n",
              "       'Economic Sciences, Business Studies, Commerce and Law',\n",
              "       'Art, Music or Design', 'Humanities and Social Sciences',\n",
              "       'Medicine, Health Sciences', 'Teaching Degree (e.g., B.Ed)',\n",
              "       'Mathematics or Natural Sciences', 'Language and Cultural Studies'],\n",
              "      dtype=object)"
            ]
          },
          "metadata": {
            "tags": []
          },
          "execution_count": 10
        }
      ]
    },
    {
      "cell_type": "code",
      "metadata": {
        "id": "Ebuz67nDocPv",
        "colab": {
          "base_uri": "https://localhost:8080/"
        },
        "outputId": "9e0e89b9-478b-4fa3-d91b-e9a9461cfc47"
      },
      "source": [
        "df.ReasonsForLack.unique()"
      ],
      "execution_count": null,
      "outputs": [
        {
          "output_type": "execute_result",
          "data": {
            "text/plain": [
              "array([nan,\n",
              "       'Just not interested! (Want to work in the corporate sector, or for the government or pursue research or something else)',\n",
              "       'Not willing to start a venture in India and waiting for future relocation',\n",
              "       'Not able to take a Financial Risk',\n",
              "       'Just not interested! (Want to work in the corporate sector, or for the government or pursue research or something else), Academic Pressure, Lack of Knowledge, Not able to take a Financial Risk',\n",
              "       'Academic Pressure, Lack of Knowledge, Not able to take a Financial Risk',\n",
              "       'Just not interested! (Want to work in the corporate sector, or for the government or pursue research or something else), Academic Pressure, Parental Pressure',\n",
              "       'Academic Pressure, Lack of Knowledge, Mental Block',\n",
              "       'Lack of Knowledge',\n",
              "       'Academic Pressure, Unwillingness to take risk, Lack of Knowledge',\n",
              "       'Just not interested! (Want to work in the corporate sector, or for the government or pursue research or something else), Lack of Knowledge, Parental Pressure, Mental Block',\n",
              "       'Unwillingness to take risk, Lack of Knowledge, Not able to take a Financial Risk',\n",
              "       'Just not interested! (Want to work in the corporate sector, or for the government or pursue research or something else), Unwillingness to take risk, Lack of Knowledge',\n",
              "       'Just not interested! (Want to work in the corporate sector, or for the government or pursue research or something else), Academic Pressure, Unwillingness to take risk, Lack of Knowledge, Parental Pressure, Not able to take a Financial Risk',\n",
              "       'Academic Pressure, Lack of Knowledge',\n",
              "       'Unwillingness to take risk',\n",
              "       'Academic Pressure, Lack of Knowledge, Parental Pressure, Mental Block, Not able to take a Financial Risk',\n",
              "       'Lack of Knowledge, Not willing to start a venture in India and waiting for future relocation',\n",
              "       'Academic Pressure',\n",
              "       'Just not interested! (Want to work in the corporate sector, or for the government or pursue research or something else), Academic Pressure, Unwillingness to take risk, Lack of Knowledge, Parental Pressure, Mental Block, Not able to take a Financial Risk, Not willing to start a venture in India and waiting for future relocation',\n",
              "       'Just not interested! (Want to work in the corporate sector, or for the government or pursue research or something else), Lack of Knowledge',\n",
              "       'Lack of Knowledge, Not able to take a Financial Risk',\n",
              "       'Lack of Knowledge, Parental Pressure',\n",
              "       'Just not interested! (Want to work in the corporate sector, or for the government or pursue research or something else), Not willing to start a venture in India and waiting for future relocation',\n",
              "       'Just not interested! (Want to work in the corporate sector, or for the government or pursue research or something else), Academic Pressure, Not able to take a Financial Risk',\n",
              "       'Parental Pressure, Not able to take a Financial Risk, Not willing to start a venture in India and waiting for future relocation',\n",
              "       'Just not interested! (Want to work in the corporate sector, or for the government or pursue research or something else), Academic Pressure, Lack of Knowledge',\n",
              "       'Academic Pressure, Not able to take a Financial Risk',\n",
              "       'Mental Block',\n",
              "       'Just not interested! (Want to work in the corporate sector, or for the government or pursue research or something else), Lack of Knowledge, Not able to take a Financial Risk, Not willing to start a venture in India and waiting for future relocation',\n",
              "       'Just not interested! (Want to work in the corporate sector, or for the government or pursue research or something else), Lack of Knowledge, Not able to take a Financial Risk',\n",
              "       'Academic Pressure, Unwillingness to take risk, Lack of Knowledge, Parental Pressure, Mental Block, Not able to take a Financial Risk, Not willing to start a venture in India and waiting for future relocation',\n",
              "       'Academic Pressure, Lack of Knowledge, Not able to take a Financial Risk, Not willing to start a venture in India and waiting for future relocation',\n",
              "       'Academic Pressure, Lack of Knowledge, Parental Pressure',\n",
              "       'Just not interested! (Want to work in the corporate sector, or for the government or pursue research or something else), Unwillingness to take risk',\n",
              "       'Academic Pressure, Unwillingness to take risk, Parental Pressure, Not able to take a Financial Risk',\n",
              "       'Not able to take a Financial Risk, Not willing to start a venture in India and waiting for future relocation',\n",
              "       'Lack of Knowledge, Parental Pressure, Mental Block, Not able to take a Financial Risk',\n",
              "       'Academic Pressure, Unwillingness to take risk, Not able to take a Financial Risk',\n",
              "       'Parental Pressure',\n",
              "       'Just not interested! (Want to work in the corporate sector, or for the government or pursue research or something else), Not able to take a Financial Risk',\n",
              "       'Just not interested! (Want to work in the corporate sector, or for the government or pursue research or something else), Academic Pressure, Lack of Knowledge, Parental Pressure, Not able to take a Financial Risk',\n",
              "       'Lack of Knowledge, Mental Block, Not able to take a Financial Risk',\n",
              "       'Lack of Knowledge, Mental Block',\n",
              "       'Just not interested! (Want to work in the corporate sector, or for the government or pursue research or something else), Academic Pressure'],\n",
              "      dtype=object)"
            ]
          },
          "metadata": {
            "tags": []
          },
          "execution_count": 11
        }
      ]
    },
    {
      "cell_type": "code",
      "metadata": {
        "id": "kBs1o46IdIQQ"
      },
      "source": [
        "df.ReasonsForLack = df.ReasonsForLack.fillna('No Reason')"
      ],
      "execution_count": null,
      "outputs": []
    },
    {
      "cell_type": "code",
      "metadata": {
        "colab": {
          "base_uri": "https://localhost:8080/"
        },
        "id": "lwchYo-jvVS5",
        "outputId": "32d5378b-f4bc-449f-a960-f2206cd659ac"
      },
      "source": [
        "df.ReasonsForLack.unique()"
      ],
      "execution_count": null,
      "outputs": [
        {
          "output_type": "execute_result",
          "data": {
            "text/plain": [
              "array(['No Reason',\n",
              "       'Just not interested! (Want to work in the corporate sector, or for the government or pursue research or something else)',\n",
              "       'Not willing to start a venture in India and waiting for future relocation',\n",
              "       'Not able to take a Financial Risk',\n",
              "       'Just not interested! (Want to work in the corporate sector, or for the government or pursue research or something else), Academic Pressure, Lack of Knowledge, Not able to take a Financial Risk',\n",
              "       'Academic Pressure, Lack of Knowledge, Not able to take a Financial Risk',\n",
              "       'Just not interested! (Want to work in the corporate sector, or for the government or pursue research or something else), Academic Pressure, Parental Pressure',\n",
              "       'Academic Pressure, Lack of Knowledge, Mental Block',\n",
              "       'Lack of Knowledge',\n",
              "       'Academic Pressure, Unwillingness to take risk, Lack of Knowledge',\n",
              "       'Just not interested! (Want to work in the corporate sector, or for the government or pursue research or something else), Lack of Knowledge, Parental Pressure, Mental Block',\n",
              "       'Unwillingness to take risk, Lack of Knowledge, Not able to take a Financial Risk',\n",
              "       'Just not interested! (Want to work in the corporate sector, or for the government or pursue research or something else), Unwillingness to take risk, Lack of Knowledge',\n",
              "       'Just not interested! (Want to work in the corporate sector, or for the government or pursue research or something else), Academic Pressure, Unwillingness to take risk, Lack of Knowledge, Parental Pressure, Not able to take a Financial Risk',\n",
              "       'Academic Pressure, Lack of Knowledge',\n",
              "       'Unwillingness to take risk',\n",
              "       'Academic Pressure, Lack of Knowledge, Parental Pressure, Mental Block, Not able to take a Financial Risk',\n",
              "       'Lack of Knowledge, Not willing to start a venture in India and waiting for future relocation',\n",
              "       'Academic Pressure',\n",
              "       'Just not interested! (Want to work in the corporate sector, or for the government or pursue research or something else), Academic Pressure, Unwillingness to take risk, Lack of Knowledge, Parental Pressure, Mental Block, Not able to take a Financial Risk, Not willing to start a venture in India and waiting for future relocation',\n",
              "       'Just not interested! (Want to work in the corporate sector, or for the government or pursue research or something else), Lack of Knowledge',\n",
              "       'Lack of Knowledge, Not able to take a Financial Risk',\n",
              "       'Lack of Knowledge, Parental Pressure',\n",
              "       'Just not interested! (Want to work in the corporate sector, or for the government or pursue research or something else), Not willing to start a venture in India and waiting for future relocation',\n",
              "       'Just not interested! (Want to work in the corporate sector, or for the government or pursue research or something else), Academic Pressure, Not able to take a Financial Risk',\n",
              "       'Parental Pressure, Not able to take a Financial Risk, Not willing to start a venture in India and waiting for future relocation',\n",
              "       'Just not interested! (Want to work in the corporate sector, or for the government or pursue research or something else), Academic Pressure, Lack of Knowledge',\n",
              "       'Academic Pressure, Not able to take a Financial Risk',\n",
              "       'Mental Block',\n",
              "       'Just not interested! (Want to work in the corporate sector, or for the government or pursue research or something else), Lack of Knowledge, Not able to take a Financial Risk, Not willing to start a venture in India and waiting for future relocation',\n",
              "       'Just not interested! (Want to work in the corporate sector, or for the government or pursue research or something else), Lack of Knowledge, Not able to take a Financial Risk',\n",
              "       'Academic Pressure, Unwillingness to take risk, Lack of Knowledge, Parental Pressure, Mental Block, Not able to take a Financial Risk, Not willing to start a venture in India and waiting for future relocation',\n",
              "       'Academic Pressure, Lack of Knowledge, Not able to take a Financial Risk, Not willing to start a venture in India and waiting for future relocation',\n",
              "       'Academic Pressure, Lack of Knowledge, Parental Pressure',\n",
              "       'Just not interested! (Want to work in the corporate sector, or for the government or pursue research or something else), Unwillingness to take risk',\n",
              "       'Academic Pressure, Unwillingness to take risk, Parental Pressure, Not able to take a Financial Risk',\n",
              "       'Not able to take a Financial Risk, Not willing to start a venture in India and waiting for future relocation',\n",
              "       'Lack of Knowledge, Parental Pressure, Mental Block, Not able to take a Financial Risk',\n",
              "       'Academic Pressure, Unwillingness to take risk, Not able to take a Financial Risk',\n",
              "       'Parental Pressure',\n",
              "       'Just not interested! (Want to work in the corporate sector, or for the government or pursue research or something else), Not able to take a Financial Risk',\n",
              "       'Just not interested! (Want to work in the corporate sector, or for the government or pursue research or something else), Academic Pressure, Lack of Knowledge, Parental Pressure, Not able to take a Financial Risk',\n",
              "       'Lack of Knowledge, Mental Block, Not able to take a Financial Risk',\n",
              "       'Lack of Knowledge, Mental Block',\n",
              "       'Just not interested! (Want to work in the corporate sector, or for the government or pursue research or something else), Academic Pressure'],\n",
              "      dtype=object)"
            ]
          },
          "metadata": {
            "tags": []
          },
          "execution_count": 13
        }
      ]
    },
    {
      "cell_type": "code",
      "metadata": {
        "colab": {
          "base_uri": "https://localhost:8080/"
        },
        "id": "2fYO7xLDvZyn",
        "outputId": "c6ef6763-3364-4fbd-ab82-54dc5cf5d98b"
      },
      "source": [
        "df.isnull().sum()"
      ],
      "execution_count": null,
      "outputs": [
        {
          "output_type": "execute_result",
          "data": {
            "text/plain": [
              "EducationSector           0\n",
              "IndividualProject         0\n",
              "Age                       0\n",
              "Gender                    0\n",
              "City                      0\n",
              "Influenced                0\n",
              "Perseverance              0\n",
              "DesireToTakeInitiative    0\n",
              "Competitiveness           0\n",
              "SelfReliance              0\n",
              "StrongNeedToAchieve       0\n",
              "SelfConfidence            0\n",
              "GoodPhysicalHealth        0\n",
              "MentalDisorder            0\n",
              "KeyTraits                 0\n",
              "ReasonsForLack            0\n",
              "y                         0\n",
              "dtype: int64"
            ]
          },
          "metadata": {
            "tags": []
          },
          "execution_count": 14
        }
      ]
    },
    {
      "cell_type": "code",
      "metadata": {
        "id": "nGscNcKC-5Qr"
      },
      "source": [
        "df['ReasonsForLack'] = df['ReasonsForLack'].str.replace('Just not interested! (Want to work in the corporate sector, or for the government or pursue research or something else)',\n",
        "                                                        'Just not interested',regex=False)"
      ],
      "execution_count": null,
      "outputs": []
    },
    {
      "cell_type": "code",
      "metadata": {
        "colab": {
          "base_uri": "https://localhost:8080/"
        },
        "id": "nODu2aq__XKC",
        "outputId": "f0307a6d-2aef-4119-f39e-acbf7e30b7b3"
      },
      "source": [
        "df.ReasonsForLack.unique()"
      ],
      "execution_count": null,
      "outputs": [
        {
          "output_type": "execute_result",
          "data": {
            "text/plain": [
              "array(['No reason', 'Just not interested',\n",
              "       'Not willing to start a venture in India and waiting for future relocation',\n",
              "       'Not able to take a Financial Risk',\n",
              "       'Just not interested, Academic Pressure, Lack of Knowledge, Not able to take a Financial Risk',\n",
              "       'Academic Pressure, Lack of Knowledge, Not able to take a Financial Risk',\n",
              "       'Just not interested, Academic Pressure, Parental Pressure',\n",
              "       'Academic Pressure, Lack of Knowledge, Mental Block',\n",
              "       'Lack of Knowledge',\n",
              "       'Academic Pressure, Unwillingness to take risk, Lack of Knowledge',\n",
              "       'Just not interested, Lack of Knowledge, Parental Pressure, Mental Block',\n",
              "       'Unwillingness to take risk, Lack of Knowledge, Not able to take a Financial Risk',\n",
              "       'Just not interested, Unwillingness to take risk, Lack of Knowledge',\n",
              "       'Just not interested, Academic Pressure, Unwillingness to take risk, Lack of Knowledge, Parental Pressure, Not able to take a Financial Risk',\n",
              "       'Academic Pressure, Lack of Knowledge',\n",
              "       'Unwillingness to take risk',\n",
              "       'Academic Pressure, Lack of Knowledge, Parental Pressure, Mental Block, Not able to take a Financial Risk',\n",
              "       'Lack of Knowledge, Not willing to start a venture in India and waiting for future relocation',\n",
              "       'Academic Pressure',\n",
              "       'Just not interested, Academic Pressure, Unwillingness to take risk, Lack of Knowledge, Parental Pressure, Mental Block, Not able to take a Financial Risk, Not willing to start a venture in India and waiting for future relocation',\n",
              "       'Just not interested, Lack of Knowledge',\n",
              "       'Lack of Knowledge, Not able to take a Financial Risk',\n",
              "       'Lack of Knowledge, Parental Pressure',\n",
              "       'Just not interested, Not willing to start a venture in India and waiting for future relocation',\n",
              "       'Just not interested, Academic Pressure, Not able to take a Financial Risk',\n",
              "       'Parental Pressure, Not able to take a Financial Risk, Not willing to start a venture in India and waiting for future relocation',\n",
              "       'Just not interested, Academic Pressure, Lack of Knowledge',\n",
              "       'Academic Pressure, Not able to take a Financial Risk',\n",
              "       'Mental Block',\n",
              "       'Just not interested, Lack of Knowledge, Not able to take a Financial Risk, Not willing to start a venture in India and waiting for future relocation',\n",
              "       'Just not interested, Lack of Knowledge, Not able to take a Financial Risk',\n",
              "       'Academic Pressure, Unwillingness to take risk, Lack of Knowledge, Parental Pressure, Mental Block, Not able to take a Financial Risk, Not willing to start a venture in India and waiting for future relocation',\n",
              "       'Academic Pressure, Lack of Knowledge, Not able to take a Financial Risk, Not willing to start a venture in India and waiting for future relocation',\n",
              "       'Academic Pressure, Lack of Knowledge, Parental Pressure',\n",
              "       'Just not interested, Unwillingness to take risk',\n",
              "       'Academic Pressure, Unwillingness to take risk, Parental Pressure, Not able to take a Financial Risk',\n",
              "       'Not able to take a Financial Risk, Not willing to start a venture in India and waiting for future relocation',\n",
              "       'Lack of Knowledge, Parental Pressure, Mental Block, Not able to take a Financial Risk',\n",
              "       'Academic Pressure, Unwillingness to take risk, Not able to take a Financial Risk',\n",
              "       'Parental Pressure',\n",
              "       'Just not interested, Not able to take a Financial Risk',\n",
              "       'Just not interested, Academic Pressure, Lack of Knowledge, Parental Pressure, Not able to take a Financial Risk',\n",
              "       'Lack of Knowledge, Mental Block, Not able to take a Financial Risk',\n",
              "       'Lack of Knowledge, Mental Block',\n",
              "       'Just not interested, Academic Pressure'], dtype=object)"
            ]
          },
          "metadata": {
            "tags": []
          },
          "execution_count": 15
        }
      ]
    },
    {
      "cell_type": "code",
      "metadata": {
        "colab": {
          "base_uri": "https://localhost:8080/"
        },
        "id": "yrDFY0muASd6",
        "outputId": "7ab5b8bd-faba-45ef-b76b-e4e0ed221d6f"
      },
      "source": [
        "df.ReasonsForLack"
      ],
      "execution_count": null,
      "outputs": [
        {
          "output_type": "execute_result",
          "data": {
            "text/plain": [
              "0                                              No Reason\n",
              "1                                    Just not interested\n",
              "2      Not willing to start a venture in India and wa...\n",
              "3                      Not able to take a Financial Risk\n",
              "4                                              No Reason\n",
              "                             ...                        \n",
              "214                                            No Reason\n",
              "215               Just not interested, Academic Pressure\n",
              "216                                            No Reason\n",
              "217                                    Lack of Knowledge\n",
              "218                                            No Reason\n",
              "Name: ReasonsForLack, Length: 219, dtype: object"
            ]
          },
          "metadata": {
            "tags": []
          },
          "execution_count": 16
        }
      ]
    },
    {
      "cell_type": "code",
      "metadata": {
        "colab": {
          "base_uri": "https://localhost:8080/"
        },
        "id": "_DOEQos_A7Nb",
        "outputId": "be5c82f0-f893-4177-d389-222b2474a597"
      },
      "source": [
        "df['ReasonsForLack'].str.split(', ', expand=True)[0].unique()"
      ],
      "execution_count": null,
      "outputs": [
        {
          "output_type": "execute_result",
          "data": {
            "text/plain": [
              "array(['No Reason', 'Just not interested',\n",
              "       'Not willing to start a venture in India and waiting for future relocation',\n",
              "       'Not able to take a Financial Risk', 'Academic Pressure',\n",
              "       'Lack of Knowledge', 'Unwillingness to take risk',\n",
              "       'Parental Pressure', 'Mental Block'], dtype=object)"
            ]
          },
          "metadata": {
            "tags": []
          },
          "execution_count": 17
        }
      ]
    },
    {
      "cell_type": "code",
      "metadata": {
        "colab": {
          "base_uri": "https://localhost:8080/"
        },
        "id": "E-2TvDa5EfsS",
        "outputId": "d4719fa4-0960-49f0-85a0-2e3654a7eac6"
      },
      "source": [
        "len(df['ReasonsForLack'].str.split(', ', expand=True)[0].unique())"
      ],
      "execution_count": null,
      "outputs": [
        {
          "output_type": "execute_result",
          "data": {
            "text/plain": [
              "9"
            ]
          },
          "metadata": {
            "tags": []
          },
          "execution_count": 18
        }
      ]
    },
    {
      "cell_type": "code",
      "metadata": {
        "id": "tT4dqIWJENFw"
      },
      "source": [
        "df['No Reason'] = df['ReasonsForLack'].str.contains('No Reason')\n",
        "df['Just not interested'] = df['ReasonsForLack'].str.contains('Just not interested')\n",
        "df['Unwilling to start venture'] = df['ReasonsForLack'].str.contains('Not willing to start a venture in India and waiting for future relocation')\n",
        "df['Financial Risk'] = df['ReasonsForLack'].str.contains('Not able to take a Financial Risk')\n",
        "df['Academic Pressure'] = df['ReasonsForLack'].str.contains('Academic Pressure')\n",
        "df['Lack of Knowledge'] = df['ReasonsForLack'].str.contains('Lack of Knowledge')\n",
        "df['Unwillingness to take risk'] = df['ReasonsForLack'].str.contains('Unwillingness to take risk')\n",
        "df['Parental Pressure'] = df['ReasonsForLack'].str.contains('Parental Pressure')\n",
        "df['Mental Block'] = df['ReasonsForLack'].str.contains('Mental Block')"
      ],
      "execution_count": null,
      "outputs": []
    },
    {
      "cell_type": "code",
      "metadata": {
        "id": "hgRkWOXX4dzj"
      },
      "source": [
        "# plt.figure(figsize=(250, 50))\n",
        "\n",
        "# entrepreneur = sns.countplot(x= \"ReasonsForLack\", hue='y', data=df, palette=\"Set1\")"
      ],
      "execution_count": null,
      "outputs": []
    },
    {
      "cell_type": "code",
      "metadata": {
        "id": "PdX3uxWaEkRB",
        "colab": {
          "base_uri": "https://localhost:8080/"
        },
        "outputId": "b5090aa5-85f8-40cb-d94e-7e8f37136f70"
      },
      "source": [
        "df.info()"
      ],
      "execution_count": null,
      "outputs": [
        {
          "output_type": "stream",
          "text": [
            "<class 'pandas.core.frame.DataFrame'>\n",
            "RangeIndex: 219 entries, 0 to 218\n",
            "Data columns (total 26 columns):\n",
            " #   Column                      Non-Null Count  Dtype \n",
            "---  ------                      --------------  ----- \n",
            " 0   EducationSector             219 non-null    object\n",
            " 1   IndividualProject           219 non-null    object\n",
            " 2   Age                         219 non-null    int64 \n",
            " 3   Gender                      219 non-null    object\n",
            " 4   City                        219 non-null    object\n",
            " 5   Influenced                  219 non-null    object\n",
            " 6   Perseverance                219 non-null    int64 \n",
            " 7   DesireToTakeInitiative      219 non-null    int64 \n",
            " 8   Competitiveness             219 non-null    int64 \n",
            " 9   SelfReliance                219 non-null    int64 \n",
            " 10  StrongNeedToAchieve         219 non-null    int64 \n",
            " 11  SelfConfidence              219 non-null    int64 \n",
            " 12  GoodPhysicalHealth          219 non-null    int64 \n",
            " 13  MentalDisorder              219 non-null    object\n",
            " 14  KeyTraits                   219 non-null    object\n",
            " 15  ReasonsForLack              219 non-null    object\n",
            " 16  y                           219 non-null    int64 \n",
            " 17  No Reason                   219 non-null    bool  \n",
            " 18  Just not interested         219 non-null    bool  \n",
            " 19  Unwilling to start venture  219 non-null    bool  \n",
            " 20  Financial Risk              219 non-null    bool  \n",
            " 21  Academic Pressure           219 non-null    bool  \n",
            " 22  Lack of Knowledge           219 non-null    bool  \n",
            " 23  Unwillingness to take risk  219 non-null    bool  \n",
            " 24  Parental Pressure           219 non-null    bool  \n",
            " 25  Mental Block                219 non-null    bool  \n",
            "dtypes: bool(9), int64(9), object(8)\n",
            "memory usage: 31.1+ KB\n"
          ],
          "name": "stdout"
        }
      ]
    },
    {
      "cell_type": "code",
      "metadata": {
        "colab": {
          "base_uri": "https://localhost:8080/"
        },
        "id": "IDTJScxXdpUi",
        "outputId": "b85c6369-f0ff-4350-b731-29362b016c19"
      },
      "source": [
        "len(df[df['No Reason'] == True]) / 219 *100"
      ],
      "execution_count": null,
      "outputs": [
        {
          "output_type": "execute_result",
          "data": {
            "text/plain": [
              "41.55251141552511"
            ]
          },
          "metadata": {
            "tags": []
          },
          "execution_count": 57
        }
      ]
    },
    {
      "cell_type": "code",
      "metadata": {
        "colab": {
          "base_uri": "https://localhost:8080/"
        },
        "id": "etEPI7NUm9Pb",
        "outputId": "97a2659f-2f84-48a1-c057-f91261ce0ef8"
      },
      "source": [
        "len(df[df['Just not interested'] == True]) / 219 *100"
      ],
      "execution_count": null,
      "outputs": [
        {
          "output_type": "execute_result",
          "data": {
            "text/plain": [
              "28.767123287671232"
            ]
          },
          "metadata": {
            "tags": []
          },
          "execution_count": 60
        }
      ]
    },
    {
      "cell_type": "code",
      "metadata": {
        "colab": {
          "base_uri": "https://localhost:8080/"
        },
        "id": "RHWaLT31nLmp",
        "outputId": "896496d7-5d15-4dae-92e6-36b0d7babc5a"
      },
      "source": [
        "len(df[df['Unwilling to start venture'] == True]) / 219 *100"
      ],
      "execution_count": null,
      "outputs": [
        {
          "output_type": "execute_result",
          "data": {
            "text/plain": [
              "8.21917808219178"
            ]
          },
          "metadata": {
            "tags": []
          },
          "execution_count": 61
        }
      ]
    },
    {
      "cell_type": "code",
      "metadata": {
        "colab": {
          "base_uri": "https://localhost:8080/"
        },
        "id": "JDhfJ1kYnQhH",
        "outputId": "56baa53d-b502-4903-abc9-56e376bb6f86"
      },
      "source": [
        "len(df[df['Financial Risk'] == True]) / 219 *100"
      ],
      "execution_count": null,
      "outputs": [
        {
          "output_type": "execute_result",
          "data": {
            "text/plain": [
              "15.068493150684931"
            ]
          },
          "metadata": {
            "tags": []
          },
          "execution_count": 62
        }
      ]
    },
    {
      "cell_type": "code",
      "metadata": {
        "colab": {
          "base_uri": "https://localhost:8080/"
        },
        "id": "V4IlUy_wnR8O",
        "outputId": "616c90ba-a0de-4992-cbc2-890a86b385b5"
      },
      "source": [
        "len(df[df['Academic Pressure'] == True]) / 219 *100"
      ],
      "execution_count": null,
      "outputs": [
        {
          "output_type": "execute_result",
          "data": {
            "text/plain": [
              "16.43835616438356"
            ]
          },
          "metadata": {
            "tags": []
          },
          "execution_count": 63
        }
      ]
    },
    {
      "cell_type": "code",
      "metadata": {
        "colab": {
          "base_uri": "https://localhost:8080/"
        },
        "id": "cHUlmv8DnSgL",
        "outputId": "39e855a9-d62a-441f-ddb8-e0f884c806e4"
      },
      "source": [
        "len(df[df['Lack of Knowledge'] == True]) / 219 *100"
      ],
      "execution_count": null,
      "outputs": [
        {
          "output_type": "execute_result",
          "data": {
            "text/plain": [
              "20.091324200913242"
            ]
          },
          "metadata": {
            "tags": []
          },
          "execution_count": 64
        }
      ]
    },
    {
      "cell_type": "code",
      "metadata": {
        "colab": {
          "base_uri": "https://localhost:8080/"
        },
        "id": "Vwp0KXG0nTGr",
        "outputId": "fe3131a9-3a01-48bf-ee7a-d74dc1c7b5ce"
      },
      "source": [
        "len(df[df['Unwillingness to take risk'] == True]) / 219 *100"
      ],
      "execution_count": null,
      "outputs": [
        {
          "output_type": "execute_result",
          "data": {
            "text/plain": [
              "7.30593607305936"
            ]
          },
          "metadata": {
            "tags": []
          },
          "execution_count": 65
        }
      ]
    },
    {
      "cell_type": "code",
      "metadata": {
        "colab": {
          "base_uri": "https://localhost:8080/"
        },
        "id": "r5Zjj-4UnTu1",
        "outputId": "487b9ef6-111e-4c82-c9cf-a0926565837b"
      },
      "source": [
        "len(df[df['Parental Pressure'] == True]) / 219 *100"
      ],
      "execution_count": null,
      "outputs": [
        {
          "output_type": "execute_result",
          "data": {
            "text/plain": [
              "6.392694063926941"
            ]
          },
          "metadata": {
            "tags": []
          },
          "execution_count": 66
        }
      ]
    },
    {
      "cell_type": "code",
      "metadata": {
        "colab": {
          "base_uri": "https://localhost:8080/"
        },
        "id": "9kkJ26XvnUOi",
        "outputId": "65ab6c56-c401-480d-a36d-b6bc3bc59c68"
      },
      "source": [
        "len(df[df['Mental Block'] == True]) / 219 *100"
      ],
      "execution_count": null,
      "outputs": [
        {
          "output_type": "execute_result",
          "data": {
            "text/plain": [
              "4.10958904109589"
            ]
          },
          "metadata": {
            "tags": []
          },
          "execution_count": 67
        }
      ]
    },
    {
      "cell_type": "code",
      "metadata": {
        "id": "JIclQgyUFXPM"
      },
      "source": [
        "df = df.drop('ReasonsForLack', axis=1)"
      ],
      "execution_count": null,
      "outputs": []
    },
    {
      "cell_type": "code",
      "metadata": {
        "colab": {
          "base_uri": "https://localhost:8080/"
        },
        "id": "nPxL-MivFFeG",
        "outputId": "dba3e2b4-0102-4d33-b300-95c1b6422e59"
      },
      "source": [
        "df.info()"
      ],
      "execution_count": null,
      "outputs": [
        {
          "output_type": "stream",
          "text": [
            "<class 'pandas.core.frame.DataFrame'>\n",
            "RangeIndex: 219 entries, 0 to 218\n",
            "Data columns (total 25 columns):\n",
            " #   Column                      Non-Null Count  Dtype \n",
            "---  ------                      --------------  ----- \n",
            " 0   EducationSector             219 non-null    object\n",
            " 1   IndividualProject           219 non-null    object\n",
            " 2   Age                         219 non-null    int64 \n",
            " 3   Gender                      219 non-null    object\n",
            " 4   City                        219 non-null    object\n",
            " 5   Influenced                  219 non-null    object\n",
            " 6   Perseverance                219 non-null    int64 \n",
            " 7   DesireToTakeInitiative      219 non-null    int64 \n",
            " 8   Competitiveness             219 non-null    int64 \n",
            " 9   SelfReliance                219 non-null    int64 \n",
            " 10  StrongNeedToAchieve         219 non-null    int64 \n",
            " 11  SelfConfidence              219 non-null    int64 \n",
            " 12  GoodPhysicalHealth          219 non-null    int64 \n",
            " 13  MentalDisorder              219 non-null    object\n",
            " 14  KeyTraits                   219 non-null    object\n",
            " 15  y                           219 non-null    int64 \n",
            " 16  No Reason                   219 non-null    bool  \n",
            " 17  Just not interested         219 non-null    bool  \n",
            " 18  Unwilling to start venture  219 non-null    bool  \n",
            " 19  Financial Risk              219 non-null    bool  \n",
            " 20  Academic Pressure           219 non-null    bool  \n",
            " 21  Lack of Knowledge           219 non-null    bool  \n",
            " 22  Unwillingness to take risk  219 non-null    bool  \n",
            " 23  Parental Pressure           219 non-null    bool  \n",
            " 24  Mental Block                219 non-null    bool  \n",
            "dtypes: bool(9), int64(9), object(7)\n",
            "memory usage: 29.4+ KB\n"
          ],
          "name": "stdout"
        }
      ]
    },
    {
      "cell_type": "code",
      "metadata": {
        "colab": {
          "base_uri": "https://localhost:8080/",
          "height": 566
        },
        "id": "r3VWIf7YaXy4",
        "outputId": "dc21c72e-5d8d-4d90-fc4b-35031f2ba292"
      },
      "source": [
        "df.head(10)"
      ],
      "execution_count": null,
      "outputs": [
        {
          "output_type": "execute_result",
          "data": {
            "text/html": [
              "<div>\n",
              "<style scoped>\n",
              "    .dataframe tbody tr th:only-of-type {\n",
              "        vertical-align: middle;\n",
              "    }\n",
              "\n",
              "    .dataframe tbody tr th {\n",
              "        vertical-align: top;\n",
              "    }\n",
              "\n",
              "    .dataframe thead th {\n",
              "        text-align: right;\n",
              "    }\n",
              "</style>\n",
              "<table border=\"1\" class=\"dataframe\">\n",
              "  <thead>\n",
              "    <tr style=\"text-align: right;\">\n",
              "      <th></th>\n",
              "      <th>EducationSector</th>\n",
              "      <th>IndividualProject</th>\n",
              "      <th>Age</th>\n",
              "      <th>Gender</th>\n",
              "      <th>City</th>\n",
              "      <th>Influenced</th>\n",
              "      <th>Perseverance</th>\n",
              "      <th>DesireToTakeInitiative</th>\n",
              "      <th>Competitiveness</th>\n",
              "      <th>SelfReliance</th>\n",
              "      <th>StrongNeedToAchieve</th>\n",
              "      <th>SelfConfidence</th>\n",
              "      <th>GoodPhysicalHealth</th>\n",
              "      <th>MentalDisorder</th>\n",
              "      <th>KeyTraits</th>\n",
              "      <th>y</th>\n",
              "      <th>No Reason</th>\n",
              "      <th>Just not interested</th>\n",
              "      <th>Unwilling to start venture</th>\n",
              "      <th>Financial Risk</th>\n",
              "      <th>Academic Pressure</th>\n",
              "      <th>Lack of Knowledge</th>\n",
              "      <th>Unwillingness to take risk</th>\n",
              "      <th>Parental Pressure</th>\n",
              "      <th>Mental Block</th>\n",
              "    </tr>\n",
              "  </thead>\n",
              "  <tbody>\n",
              "    <tr>\n",
              "      <th>0</th>\n",
              "      <td>Engineering Sciences</td>\n",
              "      <td>No</td>\n",
              "      <td>19</td>\n",
              "      <td>Male</td>\n",
              "      <td>Yes</td>\n",
              "      <td>No</td>\n",
              "      <td>2</td>\n",
              "      <td>2</td>\n",
              "      <td>3</td>\n",
              "      <td>3</td>\n",
              "      <td>2</td>\n",
              "      <td>2</td>\n",
              "      <td>3</td>\n",
              "      <td>Yes</td>\n",
              "      <td>Passion</td>\n",
              "      <td>1</td>\n",
              "      <td>True</td>\n",
              "      <td>False</td>\n",
              "      <td>False</td>\n",
              "      <td>False</td>\n",
              "      <td>False</td>\n",
              "      <td>False</td>\n",
              "      <td>False</td>\n",
              "      <td>False</td>\n",
              "      <td>False</td>\n",
              "    </tr>\n",
              "    <tr>\n",
              "      <th>1</th>\n",
              "      <td>Engineering Sciences</td>\n",
              "      <td>Yes</td>\n",
              "      <td>22</td>\n",
              "      <td>Male</td>\n",
              "      <td>No</td>\n",
              "      <td>Yes</td>\n",
              "      <td>3</td>\n",
              "      <td>3</td>\n",
              "      <td>3</td>\n",
              "      <td>4</td>\n",
              "      <td>4</td>\n",
              "      <td>3</td>\n",
              "      <td>4</td>\n",
              "      <td>Yes</td>\n",
              "      <td>Vision</td>\n",
              "      <td>0</td>\n",
              "      <td>False</td>\n",
              "      <td>True</td>\n",
              "      <td>False</td>\n",
              "      <td>False</td>\n",
              "      <td>False</td>\n",
              "      <td>False</td>\n",
              "      <td>False</td>\n",
              "      <td>False</td>\n",
              "      <td>False</td>\n",
              "    </tr>\n",
              "    <tr>\n",
              "      <th>2</th>\n",
              "      <td>Engineering Sciences</td>\n",
              "      <td>No</td>\n",
              "      <td>18</td>\n",
              "      <td>Male</td>\n",
              "      <td>Yes</td>\n",
              "      <td>No</td>\n",
              "      <td>3</td>\n",
              "      <td>4</td>\n",
              "      <td>3</td>\n",
              "      <td>3</td>\n",
              "      <td>3</td>\n",
              "      <td>4</td>\n",
              "      <td>4</td>\n",
              "      <td>No</td>\n",
              "      <td>Passion</td>\n",
              "      <td>0</td>\n",
              "      <td>False</td>\n",
              "      <td>False</td>\n",
              "      <td>True</td>\n",
              "      <td>False</td>\n",
              "      <td>False</td>\n",
              "      <td>False</td>\n",
              "      <td>False</td>\n",
              "      <td>False</td>\n",
              "      <td>False</td>\n",
              "    </tr>\n",
              "    <tr>\n",
              "      <th>3</th>\n",
              "      <td>Engineering Sciences</td>\n",
              "      <td>Yes</td>\n",
              "      <td>20</td>\n",
              "      <td>Male</td>\n",
              "      <td>Yes</td>\n",
              "      <td>Yes</td>\n",
              "      <td>3</td>\n",
              "      <td>3</td>\n",
              "      <td>3</td>\n",
              "      <td>3</td>\n",
              "      <td>4</td>\n",
              "      <td>3</td>\n",
              "      <td>3</td>\n",
              "      <td>No</td>\n",
              "      <td>Resilience</td>\n",
              "      <td>0</td>\n",
              "      <td>False</td>\n",
              "      <td>False</td>\n",
              "      <td>False</td>\n",
              "      <td>True</td>\n",
              "      <td>False</td>\n",
              "      <td>False</td>\n",
              "      <td>False</td>\n",
              "      <td>False</td>\n",
              "      <td>False</td>\n",
              "    </tr>\n",
              "    <tr>\n",
              "      <th>4</th>\n",
              "      <td>Engineering Sciences</td>\n",
              "      <td>Yes</td>\n",
              "      <td>19</td>\n",
              "      <td>Male</td>\n",
              "      <td>Yes</td>\n",
              "      <td>Yes</td>\n",
              "      <td>2</td>\n",
              "      <td>3</td>\n",
              "      <td>3</td>\n",
              "      <td>3</td>\n",
              "      <td>4</td>\n",
              "      <td>3</td>\n",
              "      <td>2</td>\n",
              "      <td>Yes</td>\n",
              "      <td>Vision</td>\n",
              "      <td>1</td>\n",
              "      <td>True</td>\n",
              "      <td>False</td>\n",
              "      <td>False</td>\n",
              "      <td>False</td>\n",
              "      <td>False</td>\n",
              "      <td>False</td>\n",
              "      <td>False</td>\n",
              "      <td>False</td>\n",
              "      <td>False</td>\n",
              "    </tr>\n",
              "    <tr>\n",
              "      <th>5</th>\n",
              "      <td>Engineering Sciences</td>\n",
              "      <td>No</td>\n",
              "      <td>19</td>\n",
              "      <td>Male</td>\n",
              "      <td>Yes</td>\n",
              "      <td>Yes</td>\n",
              "      <td>3</td>\n",
              "      <td>3</td>\n",
              "      <td>3</td>\n",
              "      <td>3</td>\n",
              "      <td>3</td>\n",
              "      <td>3</td>\n",
              "      <td>3</td>\n",
              "      <td>No</td>\n",
              "      <td>Positivity</td>\n",
              "      <td>1</td>\n",
              "      <td>True</td>\n",
              "      <td>False</td>\n",
              "      <td>False</td>\n",
              "      <td>False</td>\n",
              "      <td>False</td>\n",
              "      <td>False</td>\n",
              "      <td>False</td>\n",
              "      <td>False</td>\n",
              "      <td>False</td>\n",
              "    </tr>\n",
              "    <tr>\n",
              "      <th>6</th>\n",
              "      <td>Engineering Sciences</td>\n",
              "      <td>Yes</td>\n",
              "      <td>19</td>\n",
              "      <td>Male</td>\n",
              "      <td>Yes</td>\n",
              "      <td>Yes</td>\n",
              "      <td>3</td>\n",
              "      <td>2</td>\n",
              "      <td>3</td>\n",
              "      <td>3</td>\n",
              "      <td>4</td>\n",
              "      <td>1</td>\n",
              "      <td>1</td>\n",
              "      <td>No</td>\n",
              "      <td>Work Ethic</td>\n",
              "      <td>1</td>\n",
              "      <td>True</td>\n",
              "      <td>False</td>\n",
              "      <td>False</td>\n",
              "      <td>False</td>\n",
              "      <td>False</td>\n",
              "      <td>False</td>\n",
              "      <td>False</td>\n",
              "      <td>False</td>\n",
              "      <td>False</td>\n",
              "    </tr>\n",
              "    <tr>\n",
              "      <th>7</th>\n",
              "      <td>Engineering Sciences</td>\n",
              "      <td>No</td>\n",
              "      <td>20</td>\n",
              "      <td>Male</td>\n",
              "      <td>Yes</td>\n",
              "      <td>Yes</td>\n",
              "      <td>4</td>\n",
              "      <td>2</td>\n",
              "      <td>4</td>\n",
              "      <td>4</td>\n",
              "      <td>5</td>\n",
              "      <td>3</td>\n",
              "      <td>4</td>\n",
              "      <td>Yes</td>\n",
              "      <td>Work Ethic</td>\n",
              "      <td>0</td>\n",
              "      <td>False</td>\n",
              "      <td>True</td>\n",
              "      <td>False</td>\n",
              "      <td>True</td>\n",
              "      <td>True</td>\n",
              "      <td>True</td>\n",
              "      <td>False</td>\n",
              "      <td>False</td>\n",
              "      <td>False</td>\n",
              "    </tr>\n",
              "    <tr>\n",
              "      <th>8</th>\n",
              "      <td>Others</td>\n",
              "      <td>Yes</td>\n",
              "      <td>20</td>\n",
              "      <td>Male</td>\n",
              "      <td>Yes</td>\n",
              "      <td>Yes</td>\n",
              "      <td>2</td>\n",
              "      <td>3</td>\n",
              "      <td>3</td>\n",
              "      <td>1</td>\n",
              "      <td>2</td>\n",
              "      <td>2</td>\n",
              "      <td>2</td>\n",
              "      <td>No</td>\n",
              "      <td>Passion</td>\n",
              "      <td>0</td>\n",
              "      <td>False</td>\n",
              "      <td>False</td>\n",
              "      <td>False</td>\n",
              "      <td>True</td>\n",
              "      <td>True</td>\n",
              "      <td>True</td>\n",
              "      <td>False</td>\n",
              "      <td>False</td>\n",
              "      <td>False</td>\n",
              "    </tr>\n",
              "    <tr>\n",
              "      <th>9</th>\n",
              "      <td>Engineering Sciences</td>\n",
              "      <td>Yes</td>\n",
              "      <td>17</td>\n",
              "      <td>Male</td>\n",
              "      <td>Yes</td>\n",
              "      <td>Yes</td>\n",
              "      <td>2</td>\n",
              "      <td>3</td>\n",
              "      <td>2</td>\n",
              "      <td>1</td>\n",
              "      <td>4</td>\n",
              "      <td>3</td>\n",
              "      <td>3</td>\n",
              "      <td>Yes</td>\n",
              "      <td>Work Ethic</td>\n",
              "      <td>1</td>\n",
              "      <td>True</td>\n",
              "      <td>False</td>\n",
              "      <td>False</td>\n",
              "      <td>False</td>\n",
              "      <td>False</td>\n",
              "      <td>False</td>\n",
              "      <td>False</td>\n",
              "      <td>False</td>\n",
              "      <td>False</td>\n",
              "    </tr>\n",
              "  </tbody>\n",
              "</table>\n",
              "</div>"
            ],
            "text/plain": [
              "        EducationSector IndividualProject  ...  Parental Pressure Mental Block\n",
              "0  Engineering Sciences                No  ...              False        False\n",
              "1  Engineering Sciences               Yes  ...              False        False\n",
              "2  Engineering Sciences                No  ...              False        False\n",
              "3  Engineering Sciences               Yes  ...              False        False\n",
              "4  Engineering Sciences               Yes  ...              False        False\n",
              "5  Engineering Sciences                No  ...              False        False\n",
              "6  Engineering Sciences               Yes  ...              False        False\n",
              "7  Engineering Sciences                No  ...              False        False\n",
              "8                Others               Yes  ...              False        False\n",
              "9  Engineering Sciences               Yes  ...              False        False\n",
              "\n",
              "[10 rows x 25 columns]"
            ]
          },
          "metadata": {
            "tags": []
          },
          "execution_count": 25
        }
      ]
    },
    {
      "cell_type": "markdown",
      "metadata": {
        "id": "OjDlnC0YF6f8"
      },
      "source": [
        "### **Visualization**"
      ]
    },
    {
      "cell_type": "code",
      "metadata": {
        "colab": {
          "base_uri": "https://localhost:8080/"
        },
        "id": "i2XaHVLtFkod",
        "outputId": "3243e070-6458-4bdf-ba84-d7b80d06e869"
      },
      "source": [
        "plt.figure(figsize=(10, 5))\n",
        "plt.title('Entrepreneur X not Entrepreneur')\n",
        "sns.countplot(data=df, x='y');"
      ],
      "execution_count": null,
      "outputs": [
        {
          "output_type": "display_data",
          "data": {
            "image/png": "[encoded data removed]",
            "text/plain": [
              "<Figure size 720x360 with 1 Axes>"
            ]
          },
          "metadata": {
            "tags": [],
            "needs_background": "light"
          }
        }
      ]
    },
    {
      "cell_type": "markdown",
      "metadata": {
        "id": "_YWv1vTNJ6eA"
      },
      "source": [
        "### **Modeling**"
      ]
    },
    {
      "cell_type": "code",
      "metadata": {
        "id": "5iriWTcFJY2v"
      },
      "source": [
        "X = df.drop('y', axis=1)\n",
        "y = df['y']\n",
        "X = pd.get_dummies(X, drop_first=True)"
      ],
      "execution_count": null,
      "outputs": []
    },
    {
      "cell_type": "code",
      "metadata": {
        "id": "4jXlUrcuMNJS"
      },
      "source": [
        "from sklearn.model_selection import train_test_split\n",
        "from sklearn.preprocessing import StandardScaler"
      ],
      "execution_count": null,
      "outputs": []
    },
    {
      "cell_type": "code",
      "metadata": {
        "id": "srXCqWH8MRTi"
      },
      "source": [
        "X_train, X_test, y_train, y_test = train_test_split(X, y, test_size=0.25, random_state=42)"
      ],
      "execution_count": null,
      "outputs": []
    },
    {
      "cell_type": "code",
      "metadata": {
        "id": "MC9wVkM6NFBn"
      },
      "source": [
        "scaler = StandardScaler()\n",
        "X_train = scaler.fit_transform(X_train)\n",
        "X_test = scaler.transform(X_test)"
      ],
      "execution_count": null,
      "outputs": []
    },
    {
      "cell_type": "markdown",
      "metadata": {
        "id": "NPLC2zERN51S"
      },
      "source": [
        "### **Logistic Regression**"
      ]
    },
    {
      "cell_type": "code",
      "metadata": {
        "id": "ny-PN9BNNO1J"
      },
      "source": [
        "from sklearn.linear_model import LogisticRegression"
      ],
      "execution_count": null,
      "outputs": []
    },
    {
      "cell_type": "code",
      "metadata": {
        "colab": {
          "base_uri": "https://localhost:8080/"
        },
        "id": "Kn4E5BwkOJu_",
        "outputId": "64f5ce9b-55a3-4065-c955-d5460f421b2e"
      },
      "source": [
        "model = LogisticRegression()\n",
        "model.fit(X_train, y_train)\n",
        "model.predict(X_test)"
      ],
      "execution_count": null,
      "outputs": [
        {
          "output_type": "execute_result",
          "data": {
            "text/plain": [
              "array([0, 1, 1, 0, 1, 0, 0, 1, 0, 0, 0, 1, 0, 1, 0, 1, 1, 1, 0, 1, 1, 0,\n",
              "       0, 0, 1, 0, 1, 0, 1, 0, 0, 0, 0, 1, 0, 1, 0, 1, 1, 0, 0, 0, 0, 0,\n",
              "       1, 0, 0, 0, 0, 0, 0, 0, 0, 0, 1])"
            ]
          },
          "metadata": {
            "tags": []
          },
          "execution_count": 33
        }
      ]
    },
    {
      "cell_type": "code",
      "metadata": {
        "colab": {
          "base_uri": "https://localhost:8080/"
        },
        "id": "OO7AHTXiPtuZ",
        "outputId": "0d3d3677-c186-4ea1-9f7c-5ff856100bcc"
      },
      "source": [
        "model.score(X_test, y_test)"
      ],
      "execution_count": null,
      "outputs": [
        {
          "output_type": "execute_result",
          "data": {
            "text/plain": [
              "1.0"
            ]
          },
          "metadata": {
            "tags": []
          },
          "execution_count": 34
        }
      ]
    },
    {
      "cell_type": "code",
      "metadata": {
        "colab": {
          "base_uri": "https://localhost:8080/"
        },
        "id": "7a4TTwlPRidT",
        "outputId": "e87359ba-74d6-4e8d-fccb-ff333f302bac"
      },
      "source": [
        "acc = model.score(X_test, y_test) * 100\n",
        "print(\"Accuracy: \", acc, '%')"
      ],
      "execution_count": null,
      "outputs": [
        {
          "output_type": "stream",
          "text": [
            "Accuracy:  100.0 %\n"
          ],
          "name": "stdout"
        }
      ]
    },
    {
      "cell_type": "markdown",
      "metadata": {
        "id": "_lm2N_fVQuAp"
      },
      "source": [
        "### **K-Nearest Neighbour**"
      ]
    },
    {
      "cell_type": "code",
      "metadata": {
        "id": "4LPq84lSQtBX"
      },
      "source": [
        "from sklearn.neighbors import KNeighborsClassifier"
      ],
      "execution_count": null,
      "outputs": []
    },
    {
      "cell_type": "code",
      "metadata": {
        "colab": {
          "base_uri": "https://localhost:8080/"
        },
        "id": "7HnjrbQHP6Se",
        "outputId": "e5ae4fac-1a46-4478-9851-c8c0cc1c73ad"
      },
      "source": [
        "model2 = KNeighborsClassifier()\n",
        "model2.fit(X_train, y_train)\n",
        "model2.predict(X_test)"
      ],
      "execution_count": null,
      "outputs": [
        {
          "output_type": "execute_result",
          "data": {
            "text/plain": [
              "array([0, 1, 1, 0, 1, 0, 1, 1, 0, 0, 0, 1, 0, 1, 0, 1, 1, 1, 0, 1, 1, 0,\n",
              "       0, 1, 1, 1, 1, 0, 1, 0, 0, 0, 0, 1, 0, 1, 1, 1, 1, 0, 0, 1, 0, 0,\n",
              "       1, 0, 0, 1, 0, 0, 0, 0, 0, 0, 1])"
            ]
          },
          "metadata": {
            "tags": []
          },
          "execution_count": 37
        }
      ]
    },
    {
      "cell_type": "code",
      "metadata": {
        "colab": {
          "base_uri": "https://localhost:8080/"
        },
        "id": "CsSOGAM5RWte",
        "outputId": "4f02012b-f487-444f-b357-83b189271925"
      },
      "source": [
        "model2.score(X_test, y_test)"
      ],
      "execution_count": null,
      "outputs": [
        {
          "output_type": "execute_result",
          "data": {
            "text/plain": [
              "0.8909090909090909"
            ]
          },
          "metadata": {
            "tags": []
          },
          "execution_count": 39
        }
      ]
    },
    {
      "cell_type": "code",
      "metadata": {
        "colab": {
          "base_uri": "https://localhost:8080/"
        },
        "id": "YKMIX6omRcv2",
        "outputId": "2eb4a270-49b2-43b6-e303-eb33c4492f47"
      },
      "source": [
        "acc = model2.score(X_test, y_test) * 100\n",
        "print(\"Accuracy: \", acc, '%')"
      ],
      "execution_count": null,
      "outputs": [
        {
          "output_type": "stream",
          "text": [
            "Accuracy:  89.0909090909091 %\n"
          ],
          "name": "stdout"
        }
      ]
    },
    {
      "cell_type": "markdown",
      "metadata": {
        "id": "2jXqTMYchatb"
      },
      "source": [
        "### **Support Vector Machine**"
      ]
    },
    {
      "cell_type": "code",
      "metadata": {
        "id": "ZMN4bgmQhaQl"
      },
      "source": [
        "from sklearn.svm import  SVC"
      ],
      "execution_count": null,
      "outputs": []
    },
    {
      "cell_type": "code",
      "metadata": {
        "colab": {
          "base_uri": "https://localhost:8080/"
        },
        "id": "Fm95BGx1ho61",
        "outputId": "91952ac0-3a61-47e3-8672-e3bd90b26d09"
      },
      "source": [
        "model3 = SVC()\n",
        "model3.fit(X_train, y_train)\n",
        "model3.predict(X_test)"
      ],
      "execution_count": null,
      "outputs": [
        {
          "output_type": "execute_result",
          "data": {
            "text/plain": [
              "array([0, 1, 1, 0, 1, 0, 0, 1, 0, 0, 0, 1, 0, 1, 0, 1, 1, 1, 0, 1, 1, 0,\n",
              "       0, 0, 1, 0, 1, 0, 1, 0, 0, 0, 0, 1, 0, 1, 0, 1, 1, 0, 0, 0, 0, 0,\n",
              "       1, 0, 0, 0, 0, 0, 0, 0, 0, 0, 1])"
            ]
          },
          "metadata": {
            "tags": []
          },
          "execution_count": 42
        }
      ]
    },
    {
      "cell_type": "code",
      "metadata": {
        "colab": {
          "base_uri": "https://localhost:8080/"
        },
        "id": "jWSHhfLjjDiI",
        "outputId": "50eeb81e-5fc0-43e5-f277-1129de57e8b7"
      },
      "source": [
        "model3.score(X_test, y_test)"
      ],
      "execution_count": null,
      "outputs": [
        {
          "output_type": "execute_result",
          "data": {
            "text/plain": [
              "1.0"
            ]
          },
          "metadata": {
            "tags": []
          },
          "execution_count": 43
        }
      ]
    },
    {
      "cell_type": "markdown",
      "metadata": {
        "id": "CjVE9l_UUxLu"
      },
      "source": [
        "### **Decission Tree**"
      ]
    },
    {
      "cell_type": "code",
      "metadata": {
        "id": "JZZPv11MjOuX"
      },
      "source": [
        "from sklearn.tree import DecisionTreeClassifier"
      ],
      "execution_count": null,
      "outputs": []
    },
    {
      "cell_type": "code",
      "metadata": {
        "colab": {
          "base_uri": "https://localhost:8080/"
        },
        "id": "FgKnMjg3Uvm3",
        "outputId": "2e36de8c-4f04-48bf-b99a-afd85e8ca387"
      },
      "source": [
        "model4 = DecisionTreeClassifier()\n",
        "model4.fit(X_train, y_train)\n",
        "model4.predict(X_test)"
      ],
      "execution_count": null,
      "outputs": [
        {
          "output_type": "execute_result",
          "data": {
            "text/plain": [
              "array([0, 1, 1, 0, 1, 0, 0, 1, 0, 0, 0, 1, 0, 1, 0, 1, 1, 1, 0, 1, 1, 0,\n",
              "       0, 0, 1, 0, 1, 0, 1, 0, 0, 0, 0, 1, 0, 1, 0, 1, 1, 0, 0, 0, 0, 0,\n",
              "       1, 0, 0, 0, 0, 0, 0, 0, 0, 0, 1])"
            ]
          },
          "metadata": {
            "tags": []
          },
          "execution_count": 45
        }
      ]
    },
    {
      "cell_type": "code",
      "metadata": {
        "colab": {
          "base_uri": "https://localhost:8080/"
        },
        "id": "PwWr1i62Vo6P",
        "outputId": "5f12887b-0124-4428-bd77-c65c158ca0fc"
      },
      "source": [
        "model4.score(X_test, y_test)"
      ],
      "execution_count": null,
      "outputs": [
        {
          "output_type": "execute_result",
          "data": {
            "text/plain": [
              "1.0"
            ]
          },
          "metadata": {
            "tags": []
          },
          "execution_count": 46
        }
      ]
    },
    {
      "cell_type": "markdown",
      "metadata": {
        "id": "dtjUz6xLJxF5"
      },
      "source": [
        "### **Naive Bayes**"
      ]
    },
    {
      "cell_type": "code",
      "metadata": {
        "colab": {
          "base_uri": "https://localhost:8080/"
        },
        "id": "K2lfJonJJwoV",
        "outputId": "71e3f8bd-6af7-4fe4-8c70-fff80598e1e4"
      },
      "source": [
        "from sklearn.naive_bayes import GaussianNB\n",
        "model5 = GaussianNB()\n",
        "model5.fit(X_train, y_train)\n",
        "model5.predict(X_test)"
      ],
      "execution_count": null,
      "outputs": [
        {
          "output_type": "execute_result",
          "data": {
            "text/plain": [
              "array([0, 1, 1, 0, 1, 0, 0, 1, 0, 0, 0, 1, 0, 1, 0, 1, 1, 1, 0, 1, 1, 0,\n",
              "       0, 0, 1, 0, 1, 0, 1, 0, 0, 0, 0, 1, 0, 1, 0, 1, 1, 0, 0, 0, 0, 0,\n",
              "       1, 0, 0, 0, 0, 0, 0, 0, 0, 0, 1])"
            ]
          },
          "metadata": {
            "tags": []
          },
          "execution_count": 47
        }
      ]
    },
    {
      "cell_type": "code",
      "metadata": {
        "colab": {
          "base_uri": "https://localhost:8080/"
        },
        "id": "L86nQl6oMNPy",
        "outputId": "871dba97-7fb1-498b-9185-213c72f3bd2e"
      },
      "source": [
        "model5.score(X_test, y_test)"
      ],
      "execution_count": null,
      "outputs": [
        {
          "output_type": "execute_result",
          "data": {
            "text/plain": [
              "1.0"
            ]
          },
          "metadata": {
            "tags": []
          },
          "execution_count": 48
        }
      ]
    },
    {
      "cell_type": "code",
      "metadata": {
        "id": "zfpl54bjMTbN"
      },
      "source": [
        ""
      ],
      "execution_count": null,
      "outputs": []
    }
  ]
}